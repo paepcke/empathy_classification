{
 "cells": [
  {
   "cell_type": "code",
   "execution_count": 1,
   "id": "cc12e8a1-ccc6-454d-aa6d-6cb488a900df",
   "metadata": {},
   "outputs": [],
   "source": [
    "from trulens_tester import TruLensTester"
   ]
  },
  {
   "cell_type": "code",
   "execution_count": 2,
   "id": "caeaed2e-2914-4fe8-931e-e8d53c01ce1d",
   "metadata": {},
   "outputs": [
    {
     "name": "stderr",
     "output_type": "stream",
     "text": [
      "INFO: lib level=1\n",
      "INFO: root level=30\n",
      "INFO: Changing backend from None to Backend.PYTORCH.\n",
      "INFO: If this seems incorrect, you can force the correct backend by passing the `backend` parameter directly into your get_model_wrapper call.\n",
      "DEBUG: Input dtype was not passed in. Defaulting to `torch.float32`.\n",
      "INFO: Using backend Backend.PYTORCH.\n",
      "INFO: If this seems incorrect, you can force the correct backend by passing the `backend` parameter directly into your get_model_wrapper call.\n",
      "DEBUG: Input dtype was not passed in. Defaulting to `torch.float32`.\n",
      "INFO: Using backend Backend.PYTORCH.\n",
      "INFO: If this seems incorrect, you can force the correct backend by passing the `backend` parameter directly into your get_model_wrapper call.\n",
      "DEBUG: Input dtype was not passed in. Defaulting to `torch.float32`.\n",
      "INFO: Computing integrated gradients\n",
      "INFO: Tokenizing...\n",
      "INFO: Computing attributions...\n",
      "INFO: Constructing per-word attribution sentence(s)\n"
     ]
    }
   ],
   "source": [
    "# This will take about 45 seconds:\n",
    "tester = TruLensTester()"
   ]
  },
  {
   "cell_type": "code",
   "execution_count": 3,
   "id": "28b1a96c-4a21-4e90-b5a5-8d45c3db9b59",
   "metadata": {},
   "outputs": [
    {
     "data": {
      "text/html": [
       "<span title='0.069' style='margin: 1px; padding: 1px; border-radius: 4px; background: black; color: rgb(112, 198, 171);'>&lts></span> <span title='-0.040' style='margin: 1px; padding: 1px; border-radius: 4px; background: black; color: rgb(162, 219, 206);'>I</span> <span title='-0.357' style='margin: 1px; padding: 1px; border-radius: 4px; background: black; color: rgb(247, 252, 253);'> understand</span> <span title='-0.146' style='margin: 1px; padding: 1px; border-radius: 4px; background: black; color: rgb(206, 237, 232);'> how</span> <span title='-0.091' style='margin: 1px; padding: 1px; border-radius: 4px; background: black; color: rgb(186, 228, 219);'> you</span> <span title='-0.055' style='margin: 1px; padding: 1px; border-radius: 4px; background: black; color: rgb(168, 222, 209);'> feel</span> <span title='-0.035' style='margin: 1px; padding: 1px; border-radius: 4px; background: black; color: rgb(160, 218, 205);'>.</span> <span title='-0.170' style='margin: 1px; padding: 1px; border-radius: 4px; background: black; color: rgb(212, 239, 236);'> Let</span> <span title='-0.166' style='margin: 1px; padding: 1px; border-radius: 4px; background: black; color: rgb(211, 238, 235);'> me</span> <span title='-0.107' style='margin: 1px; padding: 1px; border-radius: 4px; background: black; color: rgb(192, 231, 223);'> know</span> <span title='0.238' style='margin: 1px; padding: 1px; border-radius: 4px; background: black; color: rgb(55, 163, 103);'> if</span> <span title='-0.001' style='margin: 1px; padding: 1px; border-radius: 4px; background: black; color: rgb(144, 212, 194);'> you</span> <span title='0.081' style='margin: 1px; padding: 1px; border-radius: 4px; background: black; color: rgb(106, 195, 166);'> want</span> <span title='0.074' style='margin: 1px; padding: 1px; border-radius: 4px; background: black; color: rgb(109, 197, 169);'> to</span> <span title='-0.115' style='margin: 1px; padding: 1px; border-radius: 4px; background: black; color: rgb(195, 232, 225);'> talk</span> <span title='0.002' style='margin: 1px; padding: 1px; border-radius: 4px; background: black; color: rgb(142, 211, 193);'>.</span> <span title='0.049' style='margin: 1px; padding: 1px; border-radius: 4px; background: black; color: rgb(122, 202, 178);'> Everything</span> <span title='0.028' style='margin: 1px; padding: 1px; border-radius: 4px; background: black; color: rgb(131, 206, 185);'> will</span> <span title='-0.054' style='margin: 1px; padding: 1px; border-radius: 4px; background: black; color: rgb(168, 222, 209);'> be</span> <span title='-0.224' style='margin: 1px; padding: 1px; border-radius: 4px; background: black; color: rgb(224, 243, 245);'> fine</span> <span title='0.540' style='margin: 1px; padding: 1px; border-radius: 4px; background: black; color: rgb(0, 68, 27);'>.</span> <span title='-0.065' style='margin: 1px; padding: 1px; border-radius: 4px; background: black; color: rgb(173, 223, 212);'>&lt/s></span>"
      ],
      "text/plain": [
       "<IPython.core.display.HTML object>"
      ]
     },
     "execution_count": 3,
     "metadata": {},
     "output_type": "execute_result"
    }
   ],
   "source": [
    "tester.renderer.render(tester.output)"
   ]
  },
  {
   "cell_type": "code",
   "execution_count": null,
   "id": "001fec63-b986-42ea-8cbb-bbd87ada7195",
   "metadata": {},
   "outputs": [],
   "source": []
  }
 ],
 "metadata": {
  "kernelspec": {
   "display_name": "Python [conda env:empathy_classification]",
   "language": "python",
   "name": "conda-env-empathy_classification-py"
  },
  "language_info": {
   "codemirror_mode": {
    "name": "ipython",
    "version": 3
   },
   "file_extension": ".py",
   "mimetype": "text/x-python",
   "name": "python",
   "nbconvert_exporter": "python",
   "pygments_lexer": "ipython3",
   "version": "3.9.11"
  }
 },
 "nbformat": 4,
 "nbformat_minor": 5
}
